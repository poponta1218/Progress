{
 "cells": [
  {
   "cell_type": "code",
   "execution_count": 146,
   "metadata": {
    "scrolled": false
   },
   "outputs": [],
   "source": [
    "using Plots\n",
    "xs=[range(-1,0,length=2) range(0,1,length=2) range(1,2,length=2) range(2,3,length=2) range(3,4,length=2)]\n",
    "data=[\n",
    "    0 1/8 1/2 7/8 1\n",
    "    0 1/8 1/2 7/8 1\n",
    "]\n",
    "markercolors=[\n",
    "    :black\n",
    "    :white\n",
    "]\n",
    "sizes=[\n",
    "    0 5 5 5 5\n",
    "    5 5 5 5 0\n",
    "]\n",
    "plot(xs,data,label=false,shape=:circle,color=markercolors,linecolor=:black,markersize=sizes)\n",
    "savefig(\"fig.pdf\")"
   ]
  },
  {
   "cell_type": "code",
   "execution_count": null,
   "metadata": {},
   "outputs": [],
   "source": []
  }
 ],
 "metadata": {
  "kernelspec": {
   "display_name": "Julia 1.4.2",
   "language": "julia",
   "name": "julia-1.4"
  },
  "language_info": {
   "file_extension": ".jl",
   "mimetype": "application/julia",
   "name": "julia",
   "version": "1.4.2"
  }
 },
 "nbformat": 4,
 "nbformat_minor": 4
}
